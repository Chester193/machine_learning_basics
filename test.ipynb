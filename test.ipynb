{
 "metadata": {
  "language_info": {
   "codemirror_mode": {
    "name": "ipython",
    "version": 3
   },
   "file_extension": ".py",
   "mimetype": "text/x-python",
   "name": "python",
   "nbconvert_exporter": "python",
   "pygments_lexer": "ipython3",
   "version": "3.8.10"
  },
  "orig_nbformat": 2,
  "kernelspec": {
   "name": "python3810jvsc74a57bd09f97b062bff164fa37d75bb2b15525e0a926f829aaad9eb3856238f6dd9f0841",
   "display_name": "Python 3.8.10 64-bit ('pum': conda)"
  }
 },
 "nbformat": 4,
 "nbformat_minor": 2,
 "cells": [
  {
   "cell_type": "code",
   "execution_count": 6,
   "metadata": {},
   "outputs": [
    {
     "output_type": "stream",
     "name": "stdout",
     "text": [
      "(300, 800)\n(300, 800)\n(240000,)\n"
     ]
    }
   ],
   "source": [
    "from sklearn.datasets import load_iris\n",
    "from sklearn.decomposition import PCA\n",
    "from sklearn.svm import SVC\n",
    "import matplotlib.pyplot as plt\n",
    "from matplotlib.colors import ListedColormap\n",
    "import numpy as np\n",
    "h = .01\n",
    "x_min, x_max = -4,4\n",
    "y_min, y_max = -1.5,1.5\n",
    "# loading dataset\n",
    "data = load_iris()\n",
    "X, y = data.data, data.target\n",
    "# selecting first 2 components of PCA\n",
    "X_pca = PCA().fit_transform(X)\n",
    "X_selected = X_pca[:,:2]\n",
    "# training classifier and evaluating on the whole plane\n",
    "clf = SVC(kernel='linear')\n",
    "clf.fit(X_selected,y)\n",
    "xx, yy = np.meshgrid(np.arange(x_min, x_max, h),\n",
    "                     np.arange(y_min, y_max, h))\n",
    "Z = clf.predict(np.c_[xx.ravel(), yy.ravel()])\n",
    "print(xx.shape)\n",
    "print(yy.shape)\n",
    "print(Z.shape)\n",
    "\n",
    "\n",
    "Z = Z.reshape(xx.shape)\n",
    "\n",
    "# # Plotting\n",
    "# cmap_light = ListedColormap(['#FFAAAA', '#AAFFAA', '#AAAAFF'])\n",
    "# cmap_bold = ListedColormap(['#FF0000', '#00FF00', '#0000FF'])\n",
    "# plt.figure(figsize=(10,5))\n",
    "# plt.pcolormesh(xx, yy, Z, alpha=.6,cmap=cmap_light)\n",
    "# plt.title('PCA - Iris dataset')\n",
    "# plt.xlabel('Dimension 1')\n",
    "# plt.ylabel('Dimension 2')\n",
    "# plt.scatter(X_pca[:,0],X_pca[:,1],c=data.target,cmap=cmap_bold)\n",
    "# plt.show()"
   ]
  },
  {
   "cell_type": "code",
   "execution_count": null,
   "metadata": {},
   "outputs": [],
   "source": []
  }
 ]
}